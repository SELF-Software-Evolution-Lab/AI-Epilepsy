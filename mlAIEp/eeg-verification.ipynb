{
 "cells": [
  {
   "cell_type": "code",
   "execution_count": 2,
   "metadata": {},
   "outputs": [],
   "source": [
    "import json\n",
    "import pika\n",
    "from ftp_helper import *\n",
    "from analyzeEEGFile import *\n",
    "from analyzeRNAFile import *\n",
    "from sys import path\n",
    "from os import environ\n",
    "import mne"
   ]
  },
  {
   "cell_type": "code",
   "execution_count": null,
   "metadata": {},
   "outputs": [],
   "source": [
    "def eegArray(extracted_file_path):\n",
    "    import mne\n",
    "    final_data=[]\n",
    "    data = mne.io.read_raw_edf(extracted_file_path, preload=True)\n",
    "    lowpass_cutoff = 0.5\n",
    "    highpass_cutoff = 70\n",
    "    notch_frequency = 60\n",
    "    raw_filtered = data.copy()\n",
    "    raw_filtered.filter(lowpass_cutoff, highpass_cutoff, fir_design='firwin')\n",
    "    raw_filtered.notch_filter(notch_frequency, fir_design='firwin')\n",
    "    \n",
    "    return final_data"
   ]
  }
 ],
 "metadata": {
  "kernelspec": {
   "display_name": "Python 3",
   "language": "python",
   "name": "python3"
  },
  "language_info": {
   "codemirror_mode": {
    "name": "ipython",
    "version": 3
   },
   "file_extension": ".py",
   "mimetype": "text/x-python",
   "name": "python",
   "nbconvert_exporter": "python",
   "pygments_lexer": "ipython3",
   "version": "3.11.9"
  }
 },
 "nbformat": 4,
 "nbformat_minor": 2
}
